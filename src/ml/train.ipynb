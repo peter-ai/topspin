{
 "cells": [
  {
   "cell_type": "code",
   "execution_count": 255,
   "id": "e111f536",
   "metadata": {},
   "outputs": [],
   "source": [
    "import pandas as pd\n",
    "import numpy as np\n",
    "from tqdm import tqdm\n",
    "from sklearn.pipeline import Pipeline\n",
    "from sklearn.impute import SimpleImputer\n",
    "from sklearn.model_selection import RandomizedSearchCV, train_test_split\n",
    "from sklearn.preprocessing import StandardScaler\n",
    "from sklearn.ensemble import RandomForestClassifier\n",
    "from sklearn.linear_model import LogisticRegression\n",
    "\n",
    "def generate_matchup_stats(winner, loser, year, stats_df):\n",
    "    winner_stats = stats_df.loc[\n",
    "        (stats_df.id == winner) & (stats_df.year < year),\n",
    "        ['id', 'nmatches', 'ace', 'df', 'svpt', '1stIn', '1stWon', '2ndWon', 'SvGms', 'bpSaved', 'bpFaced']\n",
    "    ].groupby(by='id', as_index=False).sum(min_count=1)\n",
    "    loser_stats = stats_df.loc[\n",
    "        (stats_df.id == loser) & (stats_df.year < year),\n",
    "        ['id', 'nmatches', 'ace', 'df', 'svpt', '1stIn', '1stWon', '2ndWon', 'SvGms', 'bpSaved', 'bpFaced']\n",
    "    ].groupby(by='id', as_index=False).sum(min_count=1)\n",
    "\n",
    "\n",
    "    if not winner_stats.empty and not loser_stats.empty:\n",
    "        winner_stats = winner_stats / winner_stats['nmatches'].iloc[0]\n",
    "        loser_stats = loser_stats / loser_stats['nmatches'].iloc[0]\n",
    "\n",
    "        winner_stats.drop(['id', 'nmatches'], axis=1, inplace=True)\n",
    "        loser_stats.drop(['id', 'nmatches'], axis=1, inplace=True)\n",
    "\n",
    "        return pd.concat([winner_stats, loser_stats], axis=1).squeeze(axis=0)"
   ]
  },
  {
   "cell_type": "markdown",
   "id": "1cce641a",
   "metadata": {},
   "source": [
    "### Preprocess Data"
   ]
  },
  {
   "cell_type": "code",
   "execution_count": 59,
   "id": "7356098d",
   "metadata": {},
   "outputs": [
    {
     "name": "stderr",
     "output_type": "stream",
     "text": [
      "/var/folders/2r/46yljtfx7td9ss61ym7kwqdr0000gn/T/ipykernel_53175/3709220542.py:5: DtypeWarning: Columns (3,4,7,8) have mixed types. Specify dtype option on import or set low_memory=False.\n",
      "  games = pd.read_csv(path+'game.csv')\n"
     ]
    }
   ],
   "source": [
    "path = '../../../Data/'\n",
    "\n",
    "# import db data from local csv files\n",
    "tournaments = pd.read_csv(path+'tournament.csv')\n",
    "games = pd.read_csv(path+'game.csv')\n",
    "players = pd.read_csv(path+'player_stats_yearly.csv')[\n",
    "    ['id', 'year', 'nmatches', 'ace', 'df', 'svpt', '1stIn', '1stWon', '2ndWon', 'SvGms', 'bpSaved', 'bpFaced']\n",
    "]"
   ]
  },
  {
   "cell_type": "code",
   "execution_count": 236,
   "id": "9dec2b2a",
   "metadata": {},
   "outputs": [
    {
     "data": {
      "text/html": [
       "<div>\n",
       "<style scoped>\n",
       "    .dataframe tbody tr th:only-of-type {\n",
       "        vertical-align: middle;\n",
       "    }\n",
       "\n",
       "    .dataframe tbody tr th {\n",
       "        vertical-align: top;\n",
       "    }\n",
       "\n",
       "    .dataframe thead th {\n",
       "        text-align: right;\n",
       "    }\n",
       "</style>\n",
       "<table border=\"1\" class=\"dataframe\">\n",
       "  <thead>\n",
       "    <tr style=\"text-align: right;\">\n",
       "      <th></th>\n",
       "      <th>winner_id</th>\n",
       "      <th>loser_id</th>\n",
       "      <th>year</th>\n",
       "    </tr>\n",
       "  </thead>\n",
       "  <tbody>\n",
       "    <tr>\n",
       "      <th>159536</th>\n",
       "      <td>4931</td>\n",
       "      <td>4896</td>\n",
       "      <td>1988</td>\n",
       "    </tr>\n",
       "    <tr>\n",
       "      <th>159537</th>\n",
       "      <td>5019</td>\n",
       "      <td>749</td>\n",
       "      <td>1988</td>\n",
       "    </tr>\n",
       "    <tr>\n",
       "      <th>159538</th>\n",
       "      <td>5509</td>\n",
       "      <td>4946</td>\n",
       "      <td>1988</td>\n",
       "    </tr>\n",
       "    <tr>\n",
       "      <th>159539</th>\n",
       "      <td>5257</td>\n",
       "      <td>4720</td>\n",
       "      <td>1988</td>\n",
       "    </tr>\n",
       "    <tr>\n",
       "      <th>159540</th>\n",
       "      <td>4888</td>\n",
       "      <td>4730</td>\n",
       "      <td>1988</td>\n",
       "    </tr>\n",
       "  </tbody>\n",
       "</table>\n",
       "</div>"
      ],
      "text/plain": [
       "        winner_id  loser_id  year\n",
       "159536       4931      4896  1988\n",
       "159537       5019       749  1988\n",
       "159538       5509      4946  1988\n",
       "159539       5257      4720  1988\n",
       "159540       4888      4730  1988"
      ]
     },
     "execution_count": 236,
     "metadata": {},
     "output_type": "execute_result"
    }
   ],
   "source": [
    "# restructure match data\n",
    "matchups = tournaments[['id', 'start_date']].merge(\n",
    "    right=games[['tourney_id', 'winner_id', 'loser_id']],\n",
    "    left_on='id',\n",
    "    right_on='tourney_id',\n",
    "    how=\"inner\",\n",
    ")[['start_date', 'winner_id', 'loser_id']]\n",
    "\n",
    "# convert start date to just year\n",
    "matchups['year'] = matchups['start_date'].apply(lambda x: int(x[:4]))\n",
    "matchups = matchups[matchups.year > 1987]\n",
    "matchups = matchups.drop(['start_date'], axis=1)\n",
    "\n",
    "matchups.head()"
   ]
  },
  {
   "cell_type": "code",
   "execution_count": 237,
   "id": "298e0dda",
   "metadata": {},
   "outputs": [],
   "source": [
    "# randomly swap 50% of winners with losers to balance dataset\n",
    "idx = np.random.choice(matchups.shape[0], matchups.shape[0]//2)\n",
    "matchups.iloc[idx, [0,1]] = matchups.iloc[idx, [1,0]]\n",
    "\n",
    "# zero = first person won, one = second person won\n",
    "target = np.zeros(matchups.shape[0])\n",
    "target[idx] = 1"
   ]
  },
  {
   "cell_type": "code",
   "execution_count": 238,
   "id": "0c183d6d",
   "metadata": {},
   "outputs": [
    {
     "name": "stderr",
     "output_type": "stream",
     "text": [
      "100%|██████████| 863426/863426 [40:27<00:00, 355.70it/s]  \n"
     ]
    }
   ],
   "source": [
    "tqdm.pandas()\n",
    "\n",
    "# get the stats vectors for each match\n",
    "match_stats = matchups.progress_apply(\n",
    "    lambda row: generate_matchup_stats(row['winner_id'], row['loser_id'], row['year'], players), \n",
    "    axis=1\n",
    ")"
   ]
  },
  {
   "cell_type": "code",
   "execution_count": 242,
   "id": "8ce22c21",
   "metadata": {},
   "outputs": [],
   "source": [
    "# add updated target variable\n",
    "match_stats['win'] = target\n",
    "\n",
    "# drop match stats where both the winner and loser have all NaN values\n",
    "match_stats = match_stats.dropna(\n",
    "    axis=0, \n",
    "    thresh=2,\n",
    ")"
   ]
  },
  {
   "cell_type": "markdown",
   "id": "211533e1",
   "metadata": {},
   "source": [
    "### ML Model"
   ]
  },
  {
   "cell_type": "code",
   "execution_count": 258,
   "id": "28800b3f",
   "metadata": {},
   "outputs": [],
   "source": [
    "# split data\n",
    "X_train, X_test, y_train, y_test = train_test_split(\n",
    "    match_stats.iloc[:, :-1].to_numpy(),\n",
    "    match_stats.iloc[:, -1].to_numpy(), \n",
    "    test_size=.2\n",
    ")"
   ]
  },
  {
   "cell_type": "code",
   "execution_count": 260,
   "id": "9463a66e",
   "metadata": {},
   "outputs": [
    {
     "data": {
      "text/plain": [
       "array([[ 0.9375    ,  1.03125   , 14.75      , ...,  5.11864407,\n",
       "         1.96610169,  3.57627119],\n",
       "       [ 6.96640827,  2.13953488, 61.81912145, ...,  3.96521739,\n",
       "         1.82608696,  3.07826087],\n",
       "       [ 0.91304348,  2.01449275, 38.53623188, ...,  8.07594937,\n",
       "         2.41772152,  4.01687764],\n",
       "       ...,\n",
       "       [ 1.13333333,  0.6       , 19.86666667, ...,  0.33333333,\n",
       "         0.13043478,  0.23188406],\n",
       "       [        nan,         nan,         nan, ...,  0.76315789,\n",
       "         0.65789474,  1.        ],\n",
       "       [ 0.69230769,  1.        , 24.76923077, ...,  0.70175439,\n",
       "         0.19298246,  0.33333333]])"
      ]
     },
     "execution_count": 260,
     "metadata": {},
     "output_type": "execute_result"
    }
   ],
   "source": []
  },
  {
   "cell_type": "code",
   "execution_count": 270,
   "id": "ed97ef7d",
   "metadata": {},
   "outputs": [],
   "source": [
    "clf = Pipeline(\n",
    "    [\n",
    "        ('scaler', StandardScaler()),\n",
    "        ('imputer', SimpleImputer(strategy='constant', fill_value=-1)),\n",
    "        ('rf', RandomForestClassifier(n_estimators=1000, n_jobs=-2))\n",
    "    ]\n",
    ")"
   ]
  },
  {
   "cell_type": "code",
   "execution_count": 271,
   "id": "1a135573",
   "metadata": {},
   "outputs": [
    {
     "data": {
      "text/html": [
       "<style>#sk-container-id-3 {color: black;}#sk-container-id-3 pre{padding: 0;}#sk-container-id-3 div.sk-toggleable {background-color: white;}#sk-container-id-3 label.sk-toggleable__label {cursor: pointer;display: block;width: 100%;margin-bottom: 0;padding: 0.3em;box-sizing: border-box;text-align: center;}#sk-container-id-3 label.sk-toggleable__label-arrow:before {content: \"▸\";float: left;margin-right: 0.25em;color: #696969;}#sk-container-id-3 label.sk-toggleable__label-arrow:hover:before {color: black;}#sk-container-id-3 div.sk-estimator:hover label.sk-toggleable__label-arrow:before {color: black;}#sk-container-id-3 div.sk-toggleable__content {max-height: 0;max-width: 0;overflow: hidden;text-align: left;background-color: #f0f8ff;}#sk-container-id-3 div.sk-toggleable__content pre {margin: 0.2em;color: black;border-radius: 0.25em;background-color: #f0f8ff;}#sk-container-id-3 input.sk-toggleable__control:checked~div.sk-toggleable__content {max-height: 200px;max-width: 100%;overflow: auto;}#sk-container-id-3 input.sk-toggleable__control:checked~label.sk-toggleable__label-arrow:before {content: \"▾\";}#sk-container-id-3 div.sk-estimator input.sk-toggleable__control:checked~label.sk-toggleable__label {background-color: #d4ebff;}#sk-container-id-3 div.sk-label input.sk-toggleable__control:checked~label.sk-toggleable__label {background-color: #d4ebff;}#sk-container-id-3 input.sk-hidden--visually {border: 0;clip: rect(1px 1px 1px 1px);clip: rect(1px, 1px, 1px, 1px);height: 1px;margin: -1px;overflow: hidden;padding: 0;position: absolute;width: 1px;}#sk-container-id-3 div.sk-estimator {font-family: monospace;background-color: #f0f8ff;border: 1px dotted black;border-radius: 0.25em;box-sizing: border-box;margin-bottom: 0.5em;}#sk-container-id-3 div.sk-estimator:hover {background-color: #d4ebff;}#sk-container-id-3 div.sk-parallel-item::after {content: \"\";width: 100%;border-bottom: 1px solid gray;flex-grow: 1;}#sk-container-id-3 div.sk-label:hover label.sk-toggleable__label {background-color: #d4ebff;}#sk-container-id-3 div.sk-serial::before {content: \"\";position: absolute;border-left: 1px solid gray;box-sizing: border-box;top: 0;bottom: 0;left: 50%;z-index: 0;}#sk-container-id-3 div.sk-serial {display: flex;flex-direction: column;align-items: center;background-color: white;padding-right: 0.2em;padding-left: 0.2em;position: relative;}#sk-container-id-3 div.sk-item {position: relative;z-index: 1;}#sk-container-id-3 div.sk-parallel {display: flex;align-items: stretch;justify-content: center;background-color: white;position: relative;}#sk-container-id-3 div.sk-item::before, #sk-container-id-3 div.sk-parallel-item::before {content: \"\";position: absolute;border-left: 1px solid gray;box-sizing: border-box;top: 0;bottom: 0;left: 50%;z-index: -1;}#sk-container-id-3 div.sk-parallel-item {display: flex;flex-direction: column;z-index: 1;position: relative;background-color: white;}#sk-container-id-3 div.sk-parallel-item:first-child::after {align-self: flex-end;width: 50%;}#sk-container-id-3 div.sk-parallel-item:last-child::after {align-self: flex-start;width: 50%;}#sk-container-id-3 div.sk-parallel-item:only-child::after {width: 0;}#sk-container-id-3 div.sk-dashed-wrapped {border: 1px dashed gray;margin: 0 0.4em 0.5em 0.4em;box-sizing: border-box;padding-bottom: 0.4em;background-color: white;}#sk-container-id-3 div.sk-label label {font-family: monospace;font-weight: bold;display: inline-block;line-height: 1.2em;}#sk-container-id-3 div.sk-label-container {text-align: center;}#sk-container-id-3 div.sk-container {/* jupyter's `normalize.less` sets `[hidden] { display: none; }` but bootstrap.min.css set `[hidden] { display: none !important; }` so we also need the `!important` here to be able to override the default hidden behavior on the sphinx rendered scikit-learn.org. See: https://github.com/scikit-learn/scikit-learn/issues/21755 */display: inline-block !important;position: relative;}#sk-container-id-3 div.sk-text-repr-fallback {display: none;}</style><div id=\"sk-container-id-3\" class=\"sk-top-container\"><div class=\"sk-text-repr-fallback\"><pre>Pipeline(steps=[(&#x27;scaler&#x27;, StandardScaler()),\n",
       "                (&#x27;imputer&#x27;, SimpleImputer(fill_value=-1, strategy=&#x27;constant&#x27;)),\n",
       "                (&#x27;rf&#x27;, RandomForestClassifier(n_estimators=1000, n_jobs=-2))])</pre><b>In a Jupyter environment, please rerun this cell to show the HTML representation or trust the notebook. <br />On GitHub, the HTML representation is unable to render, please try loading this page with nbviewer.org.</b></div><div class=\"sk-container\" hidden><div class=\"sk-item sk-dashed-wrapped\"><div class=\"sk-label-container\"><div class=\"sk-label sk-toggleable\"><input class=\"sk-toggleable__control sk-hidden--visually\" id=\"sk-estimator-id-9\" type=\"checkbox\" ><label for=\"sk-estimator-id-9\" class=\"sk-toggleable__label sk-toggleable__label-arrow\">Pipeline</label><div class=\"sk-toggleable__content\"><pre>Pipeline(steps=[(&#x27;scaler&#x27;, StandardScaler()),\n",
       "                (&#x27;imputer&#x27;, SimpleImputer(fill_value=-1, strategy=&#x27;constant&#x27;)),\n",
       "                (&#x27;rf&#x27;, RandomForestClassifier(n_estimators=1000, n_jobs=-2))])</pre></div></div></div><div class=\"sk-serial\"><div class=\"sk-item\"><div class=\"sk-estimator sk-toggleable\"><input class=\"sk-toggleable__control sk-hidden--visually\" id=\"sk-estimator-id-10\" type=\"checkbox\" ><label for=\"sk-estimator-id-10\" class=\"sk-toggleable__label sk-toggleable__label-arrow\">StandardScaler</label><div class=\"sk-toggleable__content\"><pre>StandardScaler()</pre></div></div></div><div class=\"sk-item\"><div class=\"sk-estimator sk-toggleable\"><input class=\"sk-toggleable__control sk-hidden--visually\" id=\"sk-estimator-id-11\" type=\"checkbox\" ><label for=\"sk-estimator-id-11\" class=\"sk-toggleable__label sk-toggleable__label-arrow\">SimpleImputer</label><div class=\"sk-toggleable__content\"><pre>SimpleImputer(fill_value=-1, strategy=&#x27;constant&#x27;)</pre></div></div></div><div class=\"sk-item\"><div class=\"sk-estimator sk-toggleable\"><input class=\"sk-toggleable__control sk-hidden--visually\" id=\"sk-estimator-id-12\" type=\"checkbox\" ><label for=\"sk-estimator-id-12\" class=\"sk-toggleable__label sk-toggleable__label-arrow\">RandomForestClassifier</label><div class=\"sk-toggleable__content\"><pre>RandomForestClassifier(n_estimators=1000, n_jobs=-2)</pre></div></div></div></div></div></div></div>"
      ],
      "text/plain": [
       "Pipeline(steps=[('scaler', StandardScaler()),\n",
       "                ('imputer', SimpleImputer(fill_value=-1, strategy='constant')),\n",
       "                ('rf', RandomForestClassifier(n_estimators=1000, n_jobs=-2))])"
      ]
     },
     "execution_count": 271,
     "metadata": {},
     "output_type": "execute_result"
    }
   ],
   "source": [
    "clf.fit(X_train, y_train)"
   ]
  },
  {
   "cell_type": "code",
   "execution_count": 268,
   "id": "1054b806",
   "metadata": {},
   "outputs": [
    {
     "data": {
      "text/plain": [
       "0.9076032637336677"
      ]
     },
     "execution_count": 268,
     "metadata": {},
     "output_type": "execute_result"
    }
   ],
   "source": [
    "clf.score(X_train, y_train)"
   ]
  },
  {
   "cell_type": "code",
   "execution_count": 272,
   "id": "2009c9ad",
   "metadata": {},
   "outputs": [
    {
     "data": {
      "text/plain": [
       "0.6438546597733943"
      ]
     },
     "execution_count": 272,
     "metadata": {},
     "output_type": "execute_result"
    }
   ],
   "source": [
    "clf.score(X_test, y_test)"
   ]
  },
  {
   "cell_type": "code",
   "execution_count": 4,
   "id": "ee451e5d",
   "metadata": {},
   "outputs": [
    {
     "data": {
      "text/html": [
       "<div>\n",
       "<style scoped>\n",
       "    .dataframe tbody tr th:only-of-type {\n",
       "        vertical-align: middle;\n",
       "    }\n",
       "\n",
       "    .dataframe tbody tr th {\n",
       "        vertical-align: top;\n",
       "    }\n",
       "\n",
       "    .dataframe thead th {\n",
       "        text-align: right;\n",
       "    }\n",
       "</style>\n",
       "<table border=\"1\" class=\"dataframe\">\n",
       "  <thead>\n",
       "    <tr style=\"text-align: right;\">\n",
       "      <th></th>\n",
       "      <th>ace</th>\n",
       "      <th>df</th>\n",
       "      <th>svpt</th>\n",
       "      <th>1stIn</th>\n",
       "      <th>1stWon</th>\n",
       "      <th>2ndWon</th>\n",
       "      <th>SvGms</th>\n",
       "      <th>bpSaved</th>\n",
       "      <th>bpFaced</th>\n",
       "      <th>id</th>\n",
       "      <th>year</th>\n",
       "    </tr>\n",
       "  </thead>\n",
       "  <tbody>\n",
       "    <tr>\n",
       "      <th>47</th>\n",
       "      <td>0.0</td>\n",
       "      <td>0.0</td>\n",
       "      <td>0.0</td>\n",
       "      <td>0.0</td>\n",
       "      <td>0.0</td>\n",
       "      <td>0.0</td>\n",
       "      <td>0.0</td>\n",
       "      <td>0.0</td>\n",
       "      <td>0.0</td>\n",
       "      <td>20841</td>\n",
       "      <td>1889</td>\n",
       "    </tr>\n",
       "    <tr>\n",
       "      <th>47</th>\n",
       "      <td>0.0</td>\n",
       "      <td>0.0</td>\n",
       "      <td>0.0</td>\n",
       "      <td>0.0</td>\n",
       "      <td>0.0</td>\n",
       "      <td>0.0</td>\n",
       "      <td>0.0</td>\n",
       "      <td>0.0</td>\n",
       "      <td>0.0</td>\n",
       "      <td>20841</td>\n",
       "      <td>1890</td>\n",
       "    </tr>\n",
       "    <tr>\n",
       "      <th>51</th>\n",
       "      <td>0.0</td>\n",
       "      <td>0.0</td>\n",
       "      <td>0.0</td>\n",
       "      <td>0.0</td>\n",
       "      <td>0.0</td>\n",
       "      <td>0.0</td>\n",
       "      <td>0.0</td>\n",
       "      <td>0.0</td>\n",
       "      <td>0.0</td>\n",
       "      <td>20845</td>\n",
       "      <td>1890</td>\n",
       "    </tr>\n",
       "    <tr>\n",
       "      <th>62</th>\n",
       "      <td>0.0</td>\n",
       "      <td>0.0</td>\n",
       "      <td>0.0</td>\n",
       "      <td>0.0</td>\n",
       "      <td>0.0</td>\n",
       "      <td>0.0</td>\n",
       "      <td>0.0</td>\n",
       "      <td>0.0</td>\n",
       "      <td>0.0</td>\n",
       "      <td>20856</td>\n",
       "      <td>1890</td>\n",
       "    </tr>\n",
       "    <tr>\n",
       "      <th>47</th>\n",
       "      <td>0.0</td>\n",
       "      <td>0.0</td>\n",
       "      <td>0.0</td>\n",
       "      <td>0.0</td>\n",
       "      <td>0.0</td>\n",
       "      <td>0.0</td>\n",
       "      <td>0.0</td>\n",
       "      <td>0.0</td>\n",
       "      <td>0.0</td>\n",
       "      <td>20841</td>\n",
       "      <td>1891</td>\n",
       "    </tr>\n",
       "    <tr>\n",
       "      <th>...</th>\n",
       "      <td>...</td>\n",
       "      <td>...</td>\n",
       "      <td>...</td>\n",
       "      <td>...</td>\n",
       "      <td>...</td>\n",
       "      <td>...</td>\n",
       "      <td>...</td>\n",
       "      <td>...</td>\n",
       "      <td>...</td>\n",
       "      <td>...</td>\n",
       "      <td>...</td>\n",
       "    </tr>\n",
       "    <tr>\n",
       "      <th>36589</th>\n",
       "      <td>0.0</td>\n",
       "      <td>0.0</td>\n",
       "      <td>0.0</td>\n",
       "      <td>0.0</td>\n",
       "      <td>0.0</td>\n",
       "      <td>0.0</td>\n",
       "      <td>0.0</td>\n",
       "      <td>0.0</td>\n",
       "      <td>0.0</td>\n",
       "      <td>40520</td>\n",
       "      <td>2022</td>\n",
       "    </tr>\n",
       "    <tr>\n",
       "      <th>36600</th>\n",
       "      <td>0.0</td>\n",
       "      <td>0.0</td>\n",
       "      <td>0.0</td>\n",
       "      <td>0.0</td>\n",
       "      <td>0.0</td>\n",
       "      <td>0.0</td>\n",
       "      <td>0.0</td>\n",
       "      <td>0.0</td>\n",
       "      <td>0.0</td>\n",
       "      <td>40550</td>\n",
       "      <td>2022</td>\n",
       "    </tr>\n",
       "    <tr>\n",
       "      <th>36603</th>\n",
       "      <td>0.0</td>\n",
       "      <td>0.0</td>\n",
       "      <td>0.0</td>\n",
       "      <td>0.0</td>\n",
       "      <td>0.0</td>\n",
       "      <td>0.0</td>\n",
       "      <td>0.0</td>\n",
       "      <td>0.0</td>\n",
       "      <td>0.0</td>\n",
       "      <td>40553</td>\n",
       "      <td>2022</td>\n",
       "    </tr>\n",
       "    <tr>\n",
       "      <th>36608</th>\n",
       "      <td>0.0</td>\n",
       "      <td>0.0</td>\n",
       "      <td>0.0</td>\n",
       "      <td>0.0</td>\n",
       "      <td>0.0</td>\n",
       "      <td>0.0</td>\n",
       "      <td>0.0</td>\n",
       "      <td>0.0</td>\n",
       "      <td>0.0</td>\n",
       "      <td>40558</td>\n",
       "      <td>2022</td>\n",
       "    </tr>\n",
       "    <tr>\n",
       "      <th>36612</th>\n",
       "      <td>0.0</td>\n",
       "      <td>0.0</td>\n",
       "      <td>0.0</td>\n",
       "      <td>0.0</td>\n",
       "      <td>0.0</td>\n",
       "      <td>0.0</td>\n",
       "      <td>0.0</td>\n",
       "      <td>0.0</td>\n",
       "      <td>0.0</td>\n",
       "      <td>40562</td>\n",
       "      <td>2022</td>\n",
       "    </tr>\n",
       "  </tbody>\n",
       "</table>\n",
       "<p>215536 rows × 11 columns</p>\n",
       "</div>"
      ],
      "text/plain": [
       "       ace   df  svpt  1stIn  1stWon  2ndWon  SvGms  bpSaved  bpFaced     id  \\\n",
       "47     0.0  0.0   0.0    0.0     0.0     0.0    0.0      0.0      0.0  20841   \n",
       "47     0.0  0.0   0.0    0.0     0.0     0.0    0.0      0.0      0.0  20841   \n",
       "51     0.0  0.0   0.0    0.0     0.0     0.0    0.0      0.0      0.0  20845   \n",
       "62     0.0  0.0   0.0    0.0     0.0     0.0    0.0      0.0      0.0  20856   \n",
       "47     0.0  0.0   0.0    0.0     0.0     0.0    0.0      0.0      0.0  20841   \n",
       "...    ...  ...   ...    ...     ...     ...    ...      ...      ...    ...   \n",
       "36589  0.0  0.0   0.0    0.0     0.0     0.0    0.0      0.0      0.0  40520   \n",
       "36600  0.0  0.0   0.0    0.0     0.0     0.0    0.0      0.0      0.0  40550   \n",
       "36603  0.0  0.0   0.0    0.0     0.0     0.0    0.0      0.0      0.0  40553   \n",
       "36608  0.0  0.0   0.0    0.0     0.0     0.0    0.0      0.0      0.0  40558   \n",
       "36612  0.0  0.0   0.0    0.0     0.0     0.0    0.0      0.0      0.0  40562   \n",
       "\n",
       "       year  \n",
       "47     1889  \n",
       "47     1890  \n",
       "51     1890  \n",
       "62     1890  \n",
       "47     1891  \n",
       "...     ...  \n",
       "36589  2022  \n",
       "36600  2022  \n",
       "36603  2022  \n",
       "36608  2022  \n",
       "36612  2022  \n",
       "\n",
       "[215536 rows x 11 columns]"
      ]
     },
     "execution_count": 4,
     "metadata": {},
     "output_type": "execute_result"
    }
   ],
   "source": [
    "df = []\n",
    "for year in range(min(players['year']), max(players['year'])):\n",
    "    x = players[players['year'] < year] # non-inclusive!\n",
    "    x = x.groupby('id').sum().reset_index()\n",
    "    x = x[x['nmatches'] > 10] # filter pointless players\n",
    "    x['year'] = year\n",
    "    df.append(x)\n",
    "df = pd.concat(df)\n",
    "feat_cols = ['ace', 'df', 'svpt', '1stIn', '1stWon', '2ndWon', 'SvGms', 'bpSaved', 'bpFaced']\n",
    "for feat in feat_cols:\n",
    "    df[feat] /= df['nmatches']\n",
    "df = df[feat_cols+['id', 'year']]\n",
    "df"
   ]
  },
  {
   "cell_type": "code",
   "execution_count": 5,
   "id": "2c394255",
   "metadata": {},
   "outputs": [
    {
     "name": "stdout",
     "output_type": "stream",
     "text": [
      "Index(['ace', 'df', 'svpt', '1stIn', '1stWon', '2ndWon', 'SvGms', 'bpSaved',\n",
      "       'bpFaced', 'id', 'year', 'tourney_id', 'match_num', 'winner_id',\n",
      "       'winner_seed', 'winner_entry', 'winner_age', 'loser_id', 'loser_seed',\n",
      "       'loser_entry', 'loser_age', 'score', 'max_sets', 'round', 'minutes',\n",
      "       'w_ace', 'w_df', 'w_svpt', 'w_1stIn', 'w_1stWon', 'w_2ndWon', 'w_SvGms',\n",
      "       'w_bpSaved', 'w_bpFaced', 'l_ace', 'l_df', 'l_svpt', 'l_1stIn',\n",
      "       'l_1stWon', 'l_2ndWon', 'l_SvGms', 'l_bpSaved', 'l_bpFaced',\n",
      "       'winner_rank', 'winner_rank_points', 'loser_rank', 'loser_rank_points'],\n",
      "      dtype='object')\n",
      "Index(['ace_x', 'df_x', 'svpt_x', '1stIn_x', '1stWon_x', '2ndWon_x', 'SvGms_x',\n",
      "       'bpSaved_x', 'bpFaced_x', 'id_x', 'year', 'ace_y', 'df_y', 'svpt_y',\n",
      "       '1stIn_y', '1stWon_y', '2ndWon_y', 'SvGms_y', 'bpSaved_y', 'bpFaced_y',\n",
      "       'id_y', 'tourney_id', 'match_num', 'winner_id', 'winner_seed',\n",
      "       'winner_entry', 'winner_age', 'loser_id', 'loser_seed', 'loser_entry',\n",
      "       'loser_age', 'score', 'max_sets', 'round', 'minutes', 'w_ace', 'w_df',\n",
      "       'w_svpt', 'w_1stIn', 'w_1stWon', 'w_2ndWon', 'w_SvGms', 'w_bpSaved',\n",
      "       'w_bpFaced', 'l_ace', 'l_df', 'l_svpt', 'l_1stIn', 'l_1stWon',\n",
      "       'l_2ndWon', 'l_SvGms', 'l_bpSaved', 'l_bpFaced', 'winner_rank',\n",
      "       'winner_rank_points', 'loser_rank', 'loser_rank_points'],\n",
      "      dtype='object')\n"
     ]
    }
   ],
   "source": [
    "game['year'] = game['tourney_id'].apply(lambda x: int(x.split('-')[0]))\n",
    "tmp = df.merge(game, left_on=['id', 'year'], right_on=['winner_id', 'year'])\n",
    "print(tmp.columns)\n",
    "tmp = df.merge(tmp, left_on=['id', 'year'], right_on=['loser_id', 'year'])\n",
    "print(tmp.columns)"
   ]
  },
  {
   "cell_type": "code",
   "execution_count": 6,
   "id": "0976225a",
   "metadata": {},
   "outputs": [],
   "source": [
    "feats = np.array(tmp[[x+'_x' for x in feat_cols]+[x+'_y' for x in feat_cols]])\n",
    "feats = feats[np.sum(feats, axis=1) > 0] # remove unnecessary data\n",
    "\n",
    "N, d = feats.shape\n",
    "\n",
    "labels = np.ones((N,))\n",
    "\n",
    "# randomly reverse the ordering for half the data\n",
    "ind = np.random.permutation(N)[:N//2]\n",
    "tmp_data = feats[ind, :d//2]\n",
    "feats[ind, :d//2] = feats[ind, d//2:]\n",
    "feats[ind, d//2:] = tmp_data\n",
    "labels[ind] = 0\n",
    "\n",
    "# split shuffled data into train and test\n",
    "ind = np.random.permutation(N)\n",
    "feats, labels = feats[ind], labels[ind]\n",
    "trn_tst = int(N*0.70)\n",
    "trn_feats, trn_labels = feats[:trn_tst], labels[:trn_tst]\n",
    "tst_feats, tst_labels = feats[trn_tst:], labels[trn_tst:]"
   ]
  },
  {
   "cell_type": "code",
   "execution_count": 7,
   "id": "2b4aa656",
   "metadata": {},
   "outputs": [
    {
     "data": {
      "text/plain": [
       "0.5003591250408097"
      ]
     },
     "execution_count": 7,
     "metadata": {},
     "output_type": "execute_result"
    }
   ],
   "source": [
    "np.mean(tst_labels == 1) # random guessing baseline!"
   ]
  },
  {
   "cell_type": "code",
   "execution_count": 8,
   "id": "d889c77f",
   "metadata": {},
   "outputs": [
    {
     "name": "stdout",
     "output_type": "stream",
     "text": [
      "[LibSVM]..........................................................................................................................................................................................\n",
      "Warning: using -h 0 may be faster\n",
      "*...........................*..\n",
      "Warning: using -h 0 may be faster\n",
      "*\n",
      "optimization finished, #iter = 214370\n",
      "obj = -233841.181357, rho = 0.254423\n",
      "nSV = 235453, nBSV = 234465\n",
      "Total nSV = 235453\n"
     ]
    },
    {
     "data": {
      "text/plain": [
       "Pipeline(steps=[('standardscaler', StandardScaler()),\n",
       "                ('svc', SVC(gamma='auto', verbose=True))])"
      ]
     },
     "execution_count": 8,
     "metadata": {},
     "output_type": "execute_result"
    }
   ],
   "source": [
    "from sklearn.pipeline import make_pipeline\n",
    "from sklearn.preprocessing import StandardScaler\n",
    "from sklearn.svm import SVC\n",
    "\n",
    "clf = make_pipeline(StandardScaler(), SVC(gamma='auto', verbose=True))\n",
    "clf.fit(trn_feats, trn_labels)"
   ]
  },
  {
   "cell_type": "markdown",
   "id": "120a17e0",
   "metadata": {},
   "source": [
    "# vegas odds: 68.91 % accuracy"
   ]
  },
  {
   "cell_type": "code",
   "execution_count": 9,
   "id": "dba238e2",
   "metadata": {},
   "outputs": [
    {
     "name": "stdout",
     "output_type": "stream",
     "text": [
      "TRN ACC: 0.6081475314644709\n",
      "TST ACC: 0.6082843617368593\n"
     ]
    }
   ],
   "source": [
    "trn_pred = clf.predict(trn_feats)\n",
    "tst_pred = clf.predict(tst_feats)\n",
    "\n",
    "print('TRN ACC:', np.mean(trn_pred == trn_labels))\n",
    "print('TST ACC:', np.mean(tst_pred == tst_labels))"
   ]
  },
  {
   "cell_type": "markdown",
   "id": "8ec592c5",
   "metadata": {},
   "source": [
    "# V1 model: 60.82% accuracy\n",
    "\n",
    "SVM with all 18 feats and entire career stats"
   ]
  },
  {
   "cell_type": "code",
   "execution_count": 10,
   "id": "4d31abcc",
   "metadata": {},
   "outputs": [],
   "source": [
    "import pickle\n",
    "with open('model_v1.pkl', 'wb') as f:\n",
    "    pickle.dump(clf, f)"
   ]
  }
 ],
 "metadata": {
  "kernelspec": {
   "display_name": "Python 3 (ipykernel)",
   "language": "python",
   "name": "python3"
  },
  "language_info": {
   "codemirror_mode": {
    "name": "ipython",
    "version": 3
   },
   "file_extension": ".py",
   "mimetype": "text/x-python",
   "name": "python",
   "nbconvert_exporter": "python",
   "pygments_lexer": "ipython3",
   "version": "3.11.4"
  }
 },
 "nbformat": 4,
 "nbformat_minor": 5
}
